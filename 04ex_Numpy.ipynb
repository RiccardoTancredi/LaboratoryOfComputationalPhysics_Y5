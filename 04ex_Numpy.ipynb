{
 "cells": [
  {
   "cell_type": "markdown",
   "metadata": {},
   "source": [
    "### Numpy basics"
   ]
  },
  {
   "cell_type": "markdown",
   "metadata": {},
   "source": [
    "1\\. Find the row, column and overall means for the following matrix:\n",
    "\n",
    "```python\n",
    "m = np.arange(12).reshape((3,4))\n",
    "```"
   ]
  },
  {
   "cell_type": "code",
   "execution_count": 1,
   "metadata": {},
   "outputs": [],
   "source": [
    "import numpy as np"
   ]
  },
  {
   "cell_type": "code",
   "execution_count": 2,
   "metadata": {},
   "outputs": [
    {
     "name": "stdout",
     "output_type": "stream",
     "text": [
      "Our array is [[ 0  1  2  3]\n",
      " [ 4  5  6  7]\n",
      " [ 8  9 10 11]]\n",
      "The number of rows is 3\n",
      "The number of columns is 4\n",
      "For rows the means are [1.5, 5.5, 9.5]\n",
      "For columns the means are [4.0, 5.0, 6.0, 7.0]\n"
     ]
    }
   ],
   "source": [
    "m = np.arange(12).reshape(3,4)\n",
    "print(f\"Our array is {m}\")\n",
    "print(f\"The number of rows is {m.shape[0]}\")\n",
    "print(f\"The number of columns is {m.shape[1]}\")\n",
    "means = [m[i,].mean() for i in range(m.shape[0])]\n",
    "print(f\"For rows the means are {means}\")\n",
    "means = [m[:,i].mean() for i in range(m.shape[1])]\n",
    "print(f\"For columns the means are {means}\")"
   ]
  },
  {
   "cell_type": "markdown",
   "metadata": {},
   "source": [
    "2\\. Find the outer product of the following two vecotrs\n",
    "\n",
    "```python\n",
    "u = np.array([1,3,5,7])\n",
    "v = np.array([2,4,6,8])\n",
    "```\n",
    "\n",
    "Do this in the following ways:\n",
    "\n",
    "   * Using the function outer in numpy\n",
    "   * Using a nested for loop or list comprehension\n",
    "   * Using numpy broadcasting operatoins\n"
   ]
  },
  {
   "cell_type": "code",
   "execution_count": 3,
   "metadata": {},
   "outputs": [
    {
     "name": "stdout",
     "output_type": "stream",
     "text": [
      "Using NumPy: [[ 2  4  6  8]\n",
      " [ 6 12 18 24]\n",
      " [10 20 30 40]\n",
      " [14 28 42 56]]\n",
      "Using a nested loop: [[ 2  4  6  8]\n",
      " [ 6 12 18 24]\n",
      " [10 20 30 40]\n",
      " [14 28 42 56]]\n",
      "Using broadcasting operations: [[ 2  4  6  8]\n",
      " [ 6 12 18 24]\n",
      " [10 20 30 40]\n",
      " [14 28 42 56]]\n"
     ]
    }
   ],
   "source": [
    "u = np.array([1,3,5,7])\n",
    "v = np.array([2,4,6,8])\n",
    "# Using the function outer in numpy\n",
    "res = np.outer(u, v)\n",
    "print(f\"Using NumPy: {res}\")\n",
    "# Using a nested for loop or list comprehension\n",
    "res = np.array([[u[i] * v[j] for j in range(len(v))] for i in range(len(u))])\n",
    "print(f\"Using a nested loop: {res}\")\n",
    "# Using numpy broadcasting operations\n",
    "u = u.reshape(len(u), 1)\n",
    "res = u * v\n",
    "print(f\"Using broadcasting operations: {res}\")"
   ]
  },
  {
   "cell_type": "markdown",
   "metadata": {},
   "source": [
    "3\\. Create a 10 by 6 matrix of random uniform numbers. Set all rows with any entry less than 0.1 to be zero\n",
    "\n",
    "Hint: Use the following numpy functions - np.random.random, np.any as well as Boolean indexing and the axis argument."
   ]
  },
  {
   "cell_type": "code",
   "execution_count": 4,
   "metadata": {},
   "outputs": [],
   "source": [
    "import numpy.random as npr\n",
    "npr.seed(123) # fix seed for reproducible result"
   ]
  },
  {
   "cell_type": "code",
   "execution_count": 5,
   "metadata": {},
   "outputs": [
    {
     "data": {
      "text/plain": [
       "array([[0.69646919, 0.28613933, 0.22685145, 0.55131477, 0.71946897,\n",
       "        0.42310646],\n",
       "       [0.9807642 , 0.68482974, 0.4809319 , 0.39211752, 0.34317802,\n",
       "        0.72904971],\n",
       "       [0.        , 0.        , 0.        , 0.        , 0.        ,\n",
       "        0.        ],\n",
       "       [0.53155137, 0.53182759, 0.63440096, 0.84943179, 0.72445532,\n",
       "        0.61102351],\n",
       "       [0.72244338, 0.32295891, 0.36178866, 0.22826323, 0.29371405,\n",
       "        0.63097612],\n",
       "       [0.        , 0.        , 0.        , 0.        , 0.        ,\n",
       "        0.        ],\n",
       "       [0.42635131, 0.89338916, 0.94416002, 0.50183668, 0.62395295,\n",
       "        0.1156184 ],\n",
       "       [0.31728548, 0.41482621, 0.86630916, 0.25045537, 0.48303426,\n",
       "        0.98555979],\n",
       "       [0.51948512, 0.61289453, 0.12062867, 0.8263408 , 0.60306013,\n",
       "        0.54506801],\n",
       "       [0.34276383, 0.30412079, 0.41702221, 0.68130077, 0.87545684,\n",
       "        0.51042234]])"
      ]
     },
     "execution_count": 5,
     "metadata": {},
     "output_type": "execute_result"
    }
   ],
   "source": [
    "res = npr.rand(10,6) \n",
    "res[res < 0.1] = 0\n",
    "# code to find indexes of rows\n",
    "indexes = []\n",
    "for i in range(res.shape[0]):\n",
    "    for j in range(res.shape[1]):\n",
    "        if res[i,j] == 0:\n",
    "            indexes.append((i,j))\n",
    "indexes = np.array(indexes)\n",
    "rows_to_exclude = set(indexes[:,0])\n",
    "res[list(rows_to_exclude), :] = 0\n",
    "res"
   ]
  },
  {
   "cell_type": "markdown",
   "metadata": {},
   "source": [
    "4\\. Use np.linspace to create an array of 100 numbers between 0 and 2π (inclusive).\n",
    "\n",
    "  * Extract every 10th element using slice notation\n",
    "  * Reverse the array using slice notation\n",
    "  * Extract elements where the absolute difference between the sine and cosine functions evaluated at that element is less than 0.1\n",
    "  * Make a plot showing the sin and cos functions and indicate where they are close"
   ]
  },
  {
   "cell_type": "code",
   "execution_count": 6,
   "metadata": {},
   "outputs": [
    {
     "data": {
      "text/plain": [
       "array([0.76281034, 0.82637787, 3.87761923, 3.94118676])"
      ]
     },
     "execution_count": 6,
     "metadata": {},
     "output_type": "execute_result"
    }
   ],
   "source": [
    "x = np.linspace(0, 2*np.pi+1./100, 100)\n",
    "# extract\n",
    "extract_1 = [x[i] for i in range(len(x)) if i % 10 == 0]\n",
    "extract_1\n",
    "# reverse the array\n",
    "extract_2 = x[::-1]\n",
    "extract_2\n",
    "# extract elements\n",
    "extract_3 = x[np.abs(np.sin(x) - np.cos(x)) < 0.1]\n",
    "extract_3"
   ]
  },
  {
   "cell_type": "code",
   "execution_count": 7,
   "metadata": {},
   "outputs": [
    {
     "data": {
      "image/png": "[encoded data removed]",
      "text/plain": [
       "<Figure size 640x480 with 1 Axes>"
      ]
     },
     "metadata": {},
     "output_type": "display_data"
    }
   ],
   "source": [
    "%matplotlib inline\n",
    "import matplotlib.pyplot as plt\n",
    "# make a plot \n",
    "plt.plot(x, np.sin(x), label=\"$sin(x)$\")\n",
    "plt.plot(x, np.cos(x), label=\"$cos(x)$\")\n",
    "# new_x = [np.where(x==extract_3[i])[0][0] for i in range(len(extract_3))]\n",
    "# print(new_x)\n",
    "plt.plot(extract_3, np.sin(extract_3), 'ro')\n",
    "plt.legend()\n",
    "plt.show()"
   ]
  },
  {
   "cell_type": "markdown",
   "metadata": {},
   "source": [
    "5\\. Create a matrix that shows the 10 by 10 multiplication table.\n",
    "\n",
    " * Find the trace of the matrix\n",
    " * Extract the anti-diagonal (this should be ```array([10, 18, 24, 28, 30, 30, 28, 24, 18, 10])```)\n",
    " * Extract the diagnoal offset by 1 upwards (this should be ```array([ 2,  6, 12, 20, 30, 42, 56, 72, 90])```)"
   ]
  },
  {
   "cell_type": "code",
   "execution_count": 8,
   "metadata": {},
   "outputs": [
    {
     "name": "stdout",
     "output_type": "stream",
     "text": [
      "The trace of the matrix is 385\n",
      "The anti-diagonal is [10 18 24 28 30 30 28 24 18 10]\n",
      "The diagonal extracted with an offset of +1 is [ 2  6 12 20 30 42 56 72 90]\n"
     ]
    }
   ],
   "source": [
    "big = np.array([i*j for j in range(1, 11) for i in range(1, 11)]).reshape(10,10)\n",
    "print(f\"The trace of the matrix is {big.trace()}\")\n",
    "print(f\"The anti-diagonal is {np.diag(big[::-1])}\")\n",
    "print(f\"The diagonal extracted with an offset of +1 is {np.diagonal(big, offset=1)}\")"
   ]
  },
  {
   "cell_type": "markdown",
   "metadata": {},
   "source": [
    "6\\. Use broadcasting to create a grid of distances\n",
    "\n",
    "Route 66 crosses the following cities in the US: Chicago, Springfield, Saint-Louis, Tulsa, Oklahoma City, Amarillo, Santa Fe, Albuquerque, Flagstaff, Los Angeles.\n",
    "\n",
    "The corresponding positions in miles are: 0, 198, 303, 736, 871, 1175, 1475, 1544, 1913, 2448\n",
    "\n",
    "  * Construct a 2D grid of distances among each city along Route 66\n",
    "  * Convert that in km (those savages...)"
   ]
  },
  {
   "cell_type": "code",
   "execution_count": 9,
   "metadata": {},
   "outputs": [
    {
     "data": {
      "text/plain": [
       "array([['Chicago', 'Springfield', 'Saint-Louis', 'Tulsa',\n",
       "        'Oklahoma City', 'Amarillo', 'Santa Fe', 'Albuquerque',\n",
       "        'Flagstaff', 'Los Angeles'],\n",
       "       [0.0, 318.64932, 487.63002, 1184.47424, 1401.73514, 1890.9745,\n",
       "        2373.7765, 2484.82096, 3078.6674199999998, 3939.66432]],\n",
       "      dtype=object)"
      ]
     },
     "execution_count": 9,
     "metadata": {},
     "output_type": "execute_result"
    }
   ],
   "source": [
    "grid = np.array([[\"Chicago\", \"Springfield\", \"Saint-Louis\", \"Tulsa\", \"Oklahoma City\", \"Amarillo\", \"Santa Fe\", \"Albuquerque\", \"Flagstaff\", \"Los Angeles\"], [0, 198, 303, 736, 871, 1175, 1475, 1544, 1913, 2448]], dtype=object)\n",
    "grid[1] = grid[1]*1.60934 # convertion from miles to km\n",
    "grid"
   ]
  },
  {
   "cell_type": "markdown",
   "metadata": {},
   "source": [
    "7\\. Prime numbers sieve: compute the prime numbers in the 0-N (N=99 to start with) range with a sieve (mask).\n",
    "  * Constract a shape (100,) boolean array, the mask\n",
    "  * Identify the multiples of each number starting from 2 and set accordingly the corresponding mask element\n",
    "  * Apply the mask to obtain an array of ordered prime numbers\n",
    "  * Check the performances (timeit); how does it scale with N?\n",
    "  * Implement the optimization suggested in the [sieve of Eratosthenes](https://en.wikipedia.org/wiki/Sieve_of_Eratosthenes)"
   ]
  },
  {
   "cell_type": "code",
   "execution_count": 10,
   "metadata": {},
   "outputs": [
    {
     "name": "stdout",
     "output_type": "stream",
     "text": [
      "[ 2  3  5  7 11 13 17 19 23 29 31 37 41 43 47 53 59 61 67 71 73 79 83 89\n",
      " 97]\n",
      "252 µs ± 10.1 µs per loop (mean ± std. dev. of 7 runs, 1000 loops each)\n"
     ]
    }
   ],
   "source": [
    "def find_primes(n):\n",
    "    numbers = np.arange(n)\n",
    "    mask = np.bool8(np.zeros(n))\n",
    "    for i in range(2, numbers.size):\n",
    "        counter = 0\n",
    "        for j in range(2, i):\n",
    "            if i % j == 0:\n",
    "                counter += 1\n",
    "        if counter == 0:\n",
    "            mask[i] = True\n",
    "    return numbers[mask]\n",
    "n = 100\n",
    "primes = find_primes(n)\n",
    "print(primes)\n",
    "%timeit find_primes(n) # it scales exponentially"
   ]
  },
  {
   "cell_type": "markdown",
   "metadata": {},
   "source": [
    "**N.B. the following exercises are meant to be solved only if you are familiar with the numpy random library. If not you can skip them (postponed for one of the next exercise sessions)**\n"
   ]
  },
  {
   "cell_type": "markdown",
   "metadata": {},
   "source": [
    "8\\. Diffusion using random walk\n",
    "\n",
    "Consider a simple random walk process: at each step in time, a walker jumps right or left (+1 or -1) with equal probability. The goal is to find the typical distance from the origin of a random walker after a given amount of time. \n",
    "To do that, let's simulate many walkers and create a 2D array with each walker as a row and the actual time evolution as columns\n",
    "\n",
    "  * Take 1000 walkers and let them walk for 200 steps\n",
    "  * Use randint to create a 2D array of size walkers x steps with values -1 or 1\n",
    "  * Build the actual walking distances for each walker (i.e. another 2D array \"summing on each raw\")\n",
    "  * Take the square of that 2D array (elementwise)\n",
    "  * Compute the mean of the squared distances at each step (i.e. the mean along the columns)\n",
    "  * Plot the average distances (sqrt(distance\\*\\*2)) as a function of time (step)\n",
    "  \n",
    "Did you get what you expected?"
   ]
  },
  {
   "cell_type": "code",
   "execution_count": null,
   "metadata": {},
   "outputs": [],
   "source": []
  },
  {
   "cell_type": "markdown",
   "metadata": {},
   "source": [
    "9\\. Analyze a data file \n",
    "  * Download the population of hares, lynxes and carrots at the beginning of the last century.\n",
    "    ```python\n",
    "    ! wget https://www.dropbox.com/s/3vigxoqayo389uc/populations.txt\n",
    "    ```\n",
    "\n",
    "  * Check the content by looking within the file\n",
    "  * Load the data (use an appropriate numpy method) into a 2D array\n",
    "  * Create arrays out of the columns, the arrays being (in order): *year*, *hares*, *lynxes*, *carrots* \n",
    "  * Plot the 3 populations over the years\n",
    "  * Compute the main statistical properties of the dataset (mean, std, correlations, etc.)\n",
    "  * Which species has the highest population each year?\n",
    "\n",
    "Do you feel there is some evident correlation here? [Studies](https://www.enr.gov.nt.ca/en/services/lynx/lynx-snowshoe-hare-cycle) tend to believe so."
   ]
  },
  {
   "cell_type": "code",
   "execution_count": null,
   "metadata": {},
   "outputs": [],
   "source": []
  }
 ],
 "metadata": {
  "kernelspec": {
   "display_name": "Python 3.7.13 ('base')",
   "language": "python",
   "name": "python3"
  },
  "language_info": {
   "codemirror_mode": {
    "name": "ipython",
    "version": 3
   },
   "file_extension": ".py",
   "mimetype": "text/x-python",
   "name": "python",
   "nbconvert_exporter": "python",
   "pygments_lexer": "ipython3",
   "version": "3.7.13"
  },
  "vscode": {
   "interpreter": {
    "hash": "7cc63d8bb06c1e0227ac9b01a159a9605014b04eb1faff35da1ccc42cc4f7246"
   }
  }
 },
 "nbformat": 4,
 "nbformat_minor": 2
}
