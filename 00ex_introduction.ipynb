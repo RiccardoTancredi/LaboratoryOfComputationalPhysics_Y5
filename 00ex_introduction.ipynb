{
 "cells": [
  {
   "cell_type": "markdown",
   "metadata": {},
   "source": [
    "1. The MickeyMouse problem\n",
    "\n",
    "a) Write a program that prints the numbers from 1 to 100. But for multiples of 3 print `Mickey` instead of the corresponding number and for the multiples of 5 print `Mouse`. For numbers which are multiples of both three and five print `MickeyMouse`\n",
    "\n",
    "b) Put the result in a tuple and substitute `Mickey` with `Donald` and `Mouse` with `Duck`"
   ]
  },
  {
   "cell_type": "code",
   "execution_count": 1,
   "metadata": {
    "scrolled": true
   },
   "outputs": [
    {
     "name": "stdout",
     "output_type": "stream",
     "text": [
      "1\n",
      "2\n",
      "Mickey\n",
      "4\n",
      "Mouse\n",
      "Mickey\n",
      "7\n",
      "8\n",
      "Mickey\n",
      "Mouse\n",
      "11\n",
      "Mickey\n",
      "13\n",
      "14\n",
      "MickeyMouse\n",
      "16\n",
      "17\n",
      "Mickey\n",
      "19\n",
      "Mouse\n",
      "Mickey\n",
      "22\n",
      "23\n",
      "Mickey\n",
      "Mouse\n",
      "26\n",
      "Mickey\n",
      "28\n",
      "29\n",
      "MickeyMouse\n",
      "31\n",
      "32\n",
      "Mickey\n",
      "34\n",
      "Mouse\n",
      "Mickey\n",
      "37\n",
      "38\n",
      "Mickey\n",
      "Mouse\n",
      "41\n",
      "Mickey\n",
      "43\n",
      "44\n",
      "MickeyMouse\n",
      "46\n",
      "47\n",
      "Mickey\n",
      "49\n",
      "Mouse\n",
      "Mickey\n",
      "52\n",
      "53\n",
      "Mickey\n",
      "Mouse\n",
      "56\n",
      "Mickey\n",
      "58\n",
      "59\n",
      "MickeyMouse\n",
      "61\n",
      "62\n",
      "Mickey\n",
      "64\n",
      "Mouse\n",
      "Mickey\n",
      "67\n",
      "68\n",
      "Mickey\n",
      "Mouse\n",
      "71\n",
      "Mickey\n",
      "73\n",
      "74\n",
      "MickeyMouse\n",
      "76\n",
      "77\n",
      "Mickey\n",
      "79\n",
      "Mouse\n",
      "Mickey\n",
      "82\n",
      "83\n",
      "Mickey\n",
      "Mouse\n",
      "86\n",
      "Mickey\n",
      "88\n",
      "89\n",
      "MickeyMouse\n",
      "91\n",
      "92\n",
      "Mickey\n",
      "94\n",
      "Mouse\n",
      "Mickey\n",
      "97\n",
      "98\n",
      "Mickey\n",
      "Mouse\n"
     ]
    }
   ],
   "source": [
    "# a\n",
    "lista = []\n",
    "Mickey = \"Mickey\"\n",
    "Mouse = \"Mouse\"\n",
    "\n",
    "for i in range(1, 101):\n",
    "    if i%3 == 0 and i%5 == 0:\n",
    "        lista.append(Mickey+Mouse)\n",
    "        print(Mickey+Mouse)\n",
    "    elif i%3 == 0:\n",
    "        lista.append(Mickey)\n",
    "        print(Mickey)\n",
    "    elif i%5 == 0:\n",
    "        lista.append(Mouse)\n",
    "        print(Mouse)\n",
    "    else:\n",
    "        lista.append(i)\n",
    "        print(i)\n"
   ]
  },
  {
   "cell_type": "code",
   "execution_count": 2,
   "metadata": {},
   "outputs": [
    {
     "name": "stdout",
     "output_type": "stream",
     "text": [
      "(1, 2, 'Donald', 4, 'Duck', 'Donald', 7, 8, 'Donald', 'Duck', 11, 'Donald', 13, 14, 'DonaldDuck', 16, 17, 'Donald', 19, 'Duck', 'Donald', 22, 23, 'Donald', 'Duck', 26, 'Donald', 28, 29, 'DonaldDuck', 31, 32, 'Donald', 34, 'Duck', 'Donald', 37, 38, 'Donald', 'Duck', 41, 'Donald', 43, 44, 'DonaldDuck', 46, 47, 'Donald', 49, 'Duck', 'Donald', 52, 53, 'Donald', 'Duck', 56, 'Donald', 58, 59, 'DonaldDuck', 61, 62, 'Donald', 64, 'Duck', 'Donald', 67, 68, 'Donald', 'Duck', 71, 'Donald', 73, 74, 'DonaldDuck', 76, 77, 'Donald', 79, 'Duck', 'Donald', 82, 83, 'Donald', 'Duck', 86, 'Donald', 88, 89, 'DonaldDuck', 91, 92, 'Donald', 94, 'Duck', 'Donald', 97, 98, 'Donald', 'Duck')\n"
     ]
    }
   ],
   "source": [
    "# b\n",
    "Donald = \"Donald\"\n",
    "Duck = \"Duck\"\n",
    "result = []\n",
    "for item in lista:\n",
    "    if item == Mickey:\n",
    "        item = Donald\n",
    "    elif item == Mouse:\n",
    "        item = Duck\n",
    "    elif item == Mickey+Mouse:\n",
    "        item = Donald+Duck\n",
    "    else:\n",
    "        pass\n",
    "    result.append(item)\n",
    "    \n",
    "result = tuple(result)\n",
    "print(result)"
   ]
  },
  {
   "cell_type": "markdown",
   "metadata": {},
   "source": [
    "2\\. The swap function\n",
    "\n",
    "Write a function that swap the values of two input variables x and y (whatever the type). Try to do that also without a temporary variable"
   ]
  },
  {
   "cell_type": "code",
   "execution_count": 3,
   "metadata": {},
   "outputs": [],
   "source": [
    "def swap(x, y):\n",
    "    return (y, x)"
   ]
  },
  {
   "cell_type": "code",
   "execution_count": 4,
   "metadata": {},
   "outputs": [
    {
     "name": "stdout",
     "output_type": "stream",
     "text": [
      "100\n",
      "5\n"
     ]
    }
   ],
   "source": [
    "x = 5\n",
    "y = 100\n",
    "x, y = swap(x, y)\n",
    "print(x)\n",
    "print(y)"
   ]
  },
  {
   "cell_type": "code",
   "execution_count": 5,
   "metadata": {},
   "outputs": [
    {
     "name": "stdout",
     "output_type": "stream",
     "text": [
      "100 5\n"
     ]
    }
   ],
   "source": [
    "# or directly\n",
    "x = 5\n",
    "y = 100\n",
    "x, y = y, x\n",
    "print(x, y)"
   ]
  },
  {
   "cell_type": "markdown",
   "metadata": {},
   "source": [
    "3\\. Computing the distance\n",
    "\n",
    "Write a function that calculates and returns the euclidean distance between two points *u* and *v*, where *u* and *v* are both 2-tuples *(x,y)*. For example, if *u=(3,0)* and *v=(0,4)*, the function should return 5"
   ]
  },
  {
   "cell_type": "code",
   "execution_count": 6,
   "metadata": {},
   "outputs": [
    {
     "data": {
      "text/plain": [
       "5.0"
      ]
     },
     "execution_count": 6,
     "metadata": {},
     "output_type": "execute_result"
    }
   ],
   "source": [
    "def distance(u:tuple, v:tuple):\n",
    "    u_x, u_y = u\n",
    "    v_x, v_y = v\n",
    "    return pow((u_x+v_x)**2 + (u_y+v_y)**2, 0.5)\n",
    "\n",
    "u = (3, 0)\n",
    "v = (0, 4)\n",
    "distance(u, v)"
   ]
  },
  {
   "cell_type": "markdown",
   "metadata": {},
   "source": [
    "4\\. Counting letters\n",
    "\n",
    "Write a program to calculate the number of times each character occurs in a given string *s*. Ignore differneces in capitalization"
   ]
  },
  {
   "cell_type": "code",
   "execution_count": 7,
   "metadata": {},
   "outputs": [],
   "source": [
    "s=\"Write a program that prints the numbers from 1 to 100. \\\n",
    "But for multiples of three print Mickey instead of the number and for the multiples of five print Mouse. \\\n",
    "For numbers which are multiples of both three and five print MickeyMouse\""
   ]
  },
  {
   "cell_type": "code",
   "execution_count": 8,
   "metadata": {},
   "outputs": [
    {
     "data": {
      "text/plain": [
       "{'k': 2,\n",
       " 'g': 1,\n",
       " 'n': 10,\n",
       " 'p': 8,\n",
       " ' ': 41,\n",
       " 'u': 9,\n",
       " 'h': 9,\n",
       " '.': 2,\n",
       " 'v': 2,\n",
       " '0': 2,\n",
       " 'a': 7,\n",
       " 's': 9,\n",
       " 'i': 14,\n",
       " 't': 19,\n",
       " 'y': 2,\n",
       " 'm': 12,\n",
       " 'l': 6,\n",
       " 'w': 2,\n",
       " 'c': 3,\n",
       " '1': 2,\n",
       " 'o': 13,\n",
       " 'r': 17,\n",
       " 'd': 3,\n",
       " 'f': 10,\n",
       " 'e': 22,\n",
       " 'b': 5}"
      ]
     },
     "execution_count": 8,
     "metadata": {},
     "output_type": "execute_result"
    }
   ],
   "source": [
    "s = s.lower()\n",
    "dictionary = {}\n",
    "for character in set(s):\n",
    "    dictionary[character] = s.count(character)\n",
    "\n",
    "dictionary"
   ]
  },
  {
   "cell_type": "markdown",
   "metadata": {},
   "source": [
    "5\\. Isolating the unique\n",
    "\n",
    "Write a function that determines and count the unique numbers in the list *l*"
   ]
  },
  {
   "cell_type": "code",
   "execution_count": 9,
   "metadata": {},
   "outputs": [
    {
     "data": {
      "text/plain": [
       "80"
      ]
     },
     "execution_count": 9,
     "metadata": {},
     "output_type": "execute_result"
    }
   ],
   "source": [
    "l = [36, 45, 58, 3, 74, 96, 64, 45, 31, 10, 24, 19, 33, 86, 99, 18, 63, 70, 85,\n",
    " 85, 63, 47, 56, 42, 70, 84, 88, 55, 20, 54, 8, 56, 51, 79, 81, 57, 37, 91,\n",
    " 1, 84, 84, 36, 66, 9, 89, 50, 42, 91, 50, 95, 90, 98, 39, 16, 82, 31, 92, 41,\n",
    " 45, 30, 66, 70, 34, 85, 94, 5, 3, 36, 72, 91, 84, 34, 87, 75, 53, 51, 20, 89, 51, 20]\n",
    "len(l)"
   ]
  },
  {
   "cell_type": "code",
   "execution_count": 10,
   "metadata": {
    "scrolled": true
   },
   "outputs": [
    {
     "name": "stdout",
     "output_type": "stream",
     "text": [
      "There are 54 elements, and they are:\n"
     ]
    },
    {
     "data": {
      "text/plain": [
       "{1,\n",
       " 3,\n",
       " 5,\n",
       " 8,\n",
       " 9,\n",
       " 10,\n",
       " 16,\n",
       " 18,\n",
       " 19,\n",
       " 20,\n",
       " 24,\n",
       " 30,\n",
       " 31,\n",
       " 33,\n",
       " 34,\n",
       " 36,\n",
       " 37,\n",
       " 39,\n",
       " 41,\n",
       " 42,\n",
       " 45,\n",
       " 47,\n",
       " 50,\n",
       " 51,\n",
       " 53,\n",
       " 54,\n",
       " 55,\n",
       " 56,\n",
       " 57,\n",
       " 58,\n",
       " 63,\n",
       " 64,\n",
       " 66,\n",
       " 70,\n",
       " 72,\n",
       " 74,\n",
       " 75,\n",
       " 79,\n",
       " 81,\n",
       " 82,\n",
       " 84,\n",
       " 85,\n",
       " 86,\n",
       " 87,\n",
       " 88,\n",
       " 89,\n",
       " 90,\n",
       " 91,\n",
       " 92,\n",
       " 94,\n",
       " 95,\n",
       " 96,\n",
       " 98,\n",
       " 99}"
      ]
     },
     "execution_count": 10,
     "metadata": {},
     "output_type": "execute_result"
    }
   ],
   "source": [
    "def unique(lista:list):\n",
    "    uniqueness = set(lista)\n",
    "    print(f\"There are {len(uniqueness)} elements, and they are:\")\n",
    "    return uniqueness\n",
    "unique(l)"
   ]
  },
  {
   "cell_type": "markdown",
   "metadata": {},
   "source": [
    "6\\. Combination of functions\n",
    "\n",
    "Write two functions - one that returns the square of a number, and one that returns the cube. Now write a third function that returns the number raised to the 6th power using the two previous functions."
   ]
  },
  {
   "cell_type": "code",
   "execution_count": 11,
   "metadata": {},
   "outputs": [
    {
     "data": {
      "text/plain": [
       "64"
      ]
     },
     "execution_count": 11,
     "metadata": {},
     "output_type": "execute_result"
    }
   ],
   "source": [
    "def square(x):\n",
    "    return x**2\n",
    "\n",
    "def cube(x):\n",
    "    return x**3\n",
    "\n",
    "def nested(x):\n",
    "    return x*square(x)*cube(x)\n",
    "\n",
    "nested(x=2)"
   ]
  },
  {
   "cell_type": "markdown",
   "metadata": {},
   "source": [
    "7\\. Cubes\n",
    "\n",
    "Create a list of the cubes of x for x in *[0, 10]* using:\n",
    "\n",
    "a) a for loop\n",
    "\n",
    "b) a list comprehension"
   ]
  },
  {
   "cell_type": "code",
   "execution_count": 12,
   "metadata": {},
   "outputs": [
    {
     "data": {
      "text/plain": [
       "[0, 1, 8, 27, 64, 125, 216, 343, 512, 729, 1000]"
      ]
     },
     "execution_count": 12,
     "metadata": {},
     "output_type": "execute_result"
    }
   ],
   "source": [
    "# a\n",
    "result_a = []\n",
    "for x in range(11):\n",
    "    result_a.append(x**3)\n",
    "result_a"
   ]
  },
  {
   "cell_type": "code",
   "execution_count": 13,
   "metadata": {},
   "outputs": [
    {
     "data": {
      "text/plain": [
       "[0, 1, 8, 27, 64, 125, 216, 343, 512, 729, 1000]"
      ]
     },
     "execution_count": 13,
     "metadata": {},
     "output_type": "execute_result"
    }
   ],
   "source": [
    "# b\n",
    "result_b = [x**3 for x in range(11)]\n",
    "result_b"
   ]
  },
  {
   "cell_type": "markdown",
   "metadata": {},
   "source": [
    "8\\. Nested list comprehension\n",
    "\n",
    "A Pythagorean triple is an integer solution to the Pythagorean theorem $a^2+b^2=c^2$. The first Pythagorean triple is (3,4,5). Find and put in a tuple all unique Pythagorean triples for the positive integers a, b and c less than 100."
   ]
  },
  {
   "cell_type": "code",
   "execution_count": 14,
   "metadata": {
    "scrolled": true
   },
   "outputs": [
    {
     "data": {
      "text/plain": [
       "((3, 4, 5),\n",
       " (5, 12, 13),\n",
       " (6, 8, 10),\n",
       " (7, 24, 25),\n",
       " (8, 15, 17),\n",
       " (9, 12, 15),\n",
       " (9, 40, 41),\n",
       " (10, 24, 26),\n",
       " (11, 60, 61),\n",
       " (12, 16, 20),\n",
       " (12, 35, 37),\n",
       " (13, 84, 85),\n",
       " (14, 48, 50),\n",
       " (15, 20, 25),\n",
       " (15, 36, 39),\n",
       " (16, 30, 34),\n",
       " (16, 63, 65),\n",
       " (18, 24, 30),\n",
       " (18, 80, 82),\n",
       " (20, 21, 29),\n",
       " (20, 48, 52),\n",
       " (21, 28, 35),\n",
       " (21, 72, 75),\n",
       " (24, 32, 40),\n",
       " (24, 45, 51),\n",
       " (24, 70, 74),\n",
       " (25, 60, 65),\n",
       " (27, 36, 45),\n",
       " (28, 45, 53),\n",
       " (30, 40, 50),\n",
       " (30, 72, 78),\n",
       " (32, 60, 68),\n",
       " (33, 44, 55),\n",
       " (33, 56, 65),\n",
       " (35, 84, 91),\n",
       " (36, 48, 60),\n",
       " (36, 77, 85),\n",
       " (39, 52, 65),\n",
       " (39, 80, 89),\n",
       " (40, 42, 58),\n",
       " (40, 75, 85),\n",
       " (42, 56, 70),\n",
       " (45, 60, 75),\n",
       " (48, 55, 73),\n",
       " (48, 64, 80),\n",
       " (51, 68, 85),\n",
       " (54, 72, 90),\n",
       " (57, 76, 95),\n",
       " (60, 63, 87),\n",
       " (65, 72, 97))"
      ]
     },
     "execution_count": 14,
     "metadata": {},
     "output_type": "execute_result"
    }
   ],
   "source": [
    "result = []\n",
    "for a in range(1, 100):\n",
    "    for b in range(a, 100):\n",
    "        for c in range(b, 100):\n",
    "            if a**2 + b**2 == c**2:\n",
    "                triple = (a, b, c)\n",
    "                result.append(triple)\n",
    "result = tuple(result)\n",
    "# They are 50, as expected\n",
    "result"
   ]
  },
  {
   "cell_type": "markdown",
   "metadata": {},
   "source": [
    "9\\. Normalization\n",
    "\n",
    "Write a function that takes a tuple of numbers and returns it with the entries normalized to one"
   ]
  },
  {
   "cell_type": "code",
   "execution_count": 15,
   "metadata": {},
   "outputs": [
    {
     "data": {
      "text/plain": [
       "0.9999999999999999"
      ]
     },
     "execution_count": 15,
     "metadata": {},
     "output_type": "execute_result"
    }
   ],
   "source": [
    "def func(tup:tuple):\n",
    "    summ = sum(tup)\n",
    "    res = []\n",
    "    for item in tup:\n",
    "        res.append(item/summ)\n",
    "    return res\n",
    "a = func((1, 2, 3, 4, 5, 6))\n",
    "sum(a)"
   ]
  },
  {
   "cell_type": "code",
   "execution_count": null,
   "metadata": {},
   "outputs": [],
   "source": []
  }
 ],
 "metadata": {
  "kernelspec": {
   "display_name": "Python 3",
   "language": "python",
   "name": "python3"
  },
  "language_info": {
   "codemirror_mode": {
    "name": "ipython",
    "version": 3
   },
   "file_extension": ".py",
   "mimetype": "text/x-python",
   "name": "python",
   "nbconvert_exporter": "python",
   "pygments_lexer": "ipython3",
   "version": "3.6.8"
  }
 },
 "nbformat": 4,
 "nbformat_minor": 2
}
