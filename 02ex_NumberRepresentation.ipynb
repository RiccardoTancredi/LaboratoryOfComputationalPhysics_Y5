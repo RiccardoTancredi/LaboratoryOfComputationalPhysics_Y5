{
 "cells": [
  {
   "cell_type": "markdown",
   "metadata": {},
   "source": [
    "1\\. Write a function that converts number representation, bin<->dec<->hex. (Clearly using the corresponding python built-in functions is not fair..)"
   ]
  },
  {
   "cell_type": "code",
   "execution_count": 1,
   "metadata": {},
   "outputs": [],
   "source": [
    "def convert(number, typ):\n",
    "    fin = ''\n",
    "    hexadecimal_dict = {10: \"A\", 11: \"B\", 12: \"C\", 13: \"D\", 14: \"E\", 15: \"F\"}\n",
    "    out = 0\n",
    "    if number == 0:\n",
    "        return str(number)\n",
    "    if typ == 'dec-bin':\n",
    "        sign = '0b'\n",
    "        sign = '-' + sign if '-' in str(number) else sign\n",
    "        number = abs(number)\n",
    "        divisor = 2\n",
    "    elif typ == 'bin-dec':\n",
    "        pre_number, number = number.split('0b')\n",
    "        for x in range(len(number)):\n",
    "            out += int(number[x])*2**(len(number)-1-x)\n",
    "        out = -out if pre_number == '-' else out\n",
    "    elif typ == 'dec-hex': \n",
    "        sign = '0x'\n",
    "        sign = '-' + sign if '-' in str(number) else sign\n",
    "        divisor = 16\n",
    "        number = abs(number)\n",
    "    elif typ == 'hex-dec':\n",
    "        pre_number, number = number.split('0x')\n",
    "        for x in range(len(number)):\n",
    "            out += int(number[x])*16**(len(number)-1-x)\n",
    "        out = -out if pre_number == '-' else out\n",
    "    else:\n",
    "        print(\"You mistyped! Retry\")\n",
    "        return None\n",
    "    if isinstance(number, int):\n",
    "        while number != 0: \n",
    "            div = number % divisor\n",
    "            number //= divisor\n",
    "            if div > 9 and typ == 'hex':\n",
    "                fin += str(hexadecimal_dict[div])\n",
    "            fin += str(div)\n",
    "        return sign+fin[::-1]\n",
    "    else:\n",
    "        return out"
   ]
  },
  {
   "cell_type": "code",
   "execution_count": 2,
   "metadata": {},
   "outputs": [
    {
     "name": "stdout",
     "output_type": "stream",
     "text": [
      "0b110010 0b110010\n",
      "50 50\n",
      "-0x32 -0x32\n",
      "-50 -50\n"
     ]
    }
   ],
   "source": [
    "print(bin(50), convert(50, 'dec-bin'))\n",
    "print(int('0b110010', 2), convert('0b110010', 'bin-dec'))\n",
    "print(hex(-50), convert(-50, 'dec-hex'))\n",
    "print(int('-0x32', 16), convert('-0x32', 'hex-dec'))"
   ]
  },
  {
   "cell_type": "markdown",
   "metadata": {},
   "source": [
    "2\\. Write a function that converts a 32 bit word into a single precision floating point (i.e. interprets the various bits as sign, mantissa and exponent)"
   ]
  },
  {
   "cell_type": "code",
   "execution_count": 3,
   "metadata": {},
   "outputs": [],
   "source": [
    "def single_precision(number):  \n",
    "    sign = number >> 31\n",
    "    exponent = ((number << 1) >> 24) - (2**7-1)\n",
    "    mantissa = str(bin(number))[9:]   \n",
    "    print(mantissa)\n",
    "    res = 1.\n",
    "    for x in range(len(mantissa)):\n",
    "        if int(mantissa[x]) == 0:\n",
    "            res += 0\n",
    "        else:\n",
    "            res += (2**(-(x+1)))\n",
    "    fin = 2**exponent * res\n",
    "    return fin if sign == 0 else -fin"
   ]
  },
  {
   "cell_type": "markdown",
   "metadata": {},
   "source": [
    "3\\. Write a program to determine the underflow and overflow limits (within a factor of 2) for python on your computer. \n",
    "\n",
    "**Tips**: define two variables inizialized to 1 and halve/double them enough time to exceed the under/over-flow limits  "
   ]
  },
  {
   "cell_type": "code",
   "execution_count": 4,
   "metadata": {},
   "outputs": [
    {
     "name": "stdout",
     "output_type": "stream",
     "text": [
      "Underflow limit reached at iteration # 1021\n",
      "Overfow limit reached at iteration # 1022\n"
     ]
    }
   ],
   "source": [
    "import sys\n",
    "def limits():\n",
    "    first_under, first_over = True, True\n",
    "    under, over = 1.0, 1.0\n",
    "    N = 10000\n",
    "    for i in range(N):\n",
    "        under = under/2\n",
    "        if first_under:\n",
    "            if under < sys.float_info.min:\n",
    "                print(f\"Underflow limit reached at iteration # {i-1}\")\n",
    "                first_under = False\n",
    "        over = over*2\n",
    "        if first_over:\n",
    "            if over > sys.float_info.max:\n",
    "                print(f\"Overfow limit reached at iteration # {i-1}\")\n",
    "                first_over = False\n",
    "        \n",
    "limits()"
   ]
  },
  {
   "cell_type": "markdown",
   "metadata": {},
   "source": [
    "4\\. Write a program to determine the machine precision\n",
    "\n",
    "**Tips**: define a new variable by adding a smaller and smaller value (proceeding similarly to prob. 2) to an original variable and check the point where the two are the same "
   ]
  },
  {
   "cell_type": "code",
   "execution_count": 5,
   "metadata": {},
   "outputs": [
    {
     "name": "stdout",
     "output_type": "stream",
     "text": [
      "Machine precision exceeded at iteration #:  52 , with epsilon:  1.1102230246251565e-16 , one:  1.0\n"
     ]
    }
   ],
   "source": [
    "def machine_precision():\n",
    "    eps = 1.0\n",
    "    start = 1.0\n",
    "    end = 1.0\n",
    "    N = 10000\n",
    "    for i in range(N):\n",
    "        eps /= 2\n",
    "        end = 1.0 + eps\n",
    "        if start.hex() == end.hex():\n",
    "            print(\"Machine precision exceeded at iteration #: \", i, \", with epsilon: \", eps, \", one: \", end)\n",
    "            break\n",
    "\n",
    "machine_precision()"
   ]
  },
  {
   "cell_type": "markdown",
   "metadata": {},
   "source": [
    "5\\. Write a function that takes in input three parameters $a$, $b$ and $c$ and prints out the two solutions to the quadratic equation $ax^2+bx+c=0$ using the standard formula:\n",
    "$$\n",
    "x=\\frac{-b\\pm\\sqrt{b^2-4ac}}{2a}\n",
    "$$\n",
    "\n",
    "(a) use the program to compute the solution for $a=0.001$, $b=1000$ and $c=0.001$\n",
    "\n",
    "(b) re-express the standard solution formula by multiplying top and bottom by $-b\\mp\\sqrt{b^2-4ac}$ and again find the solution for $a=0.001$, $b=1000$ and $c=0.001$. How does it compare with what previously obtained? Why?\n",
    "\n",
    "(c) write a function that compute the roots of a quadratic equation accurately in all cases"
   ]
  },
  {
   "cell_type": "code",
   "execution_count": 6,
   "metadata": {},
   "outputs": [
    {
     "name": "stdout",
     "output_type": "stream",
     "text": [
      "Result of (a) is: (-999999.999999, -9.999894245993346e-07)\n",
      "Result of (b) is: (-1000010.5755125057, -1.000000000001e-06)\n",
      "Result of (c) is: (-1.0000333894311098e-06, -999999.9999989999)\n"
     ]
    }
   ],
   "source": [
    "import numpy as np\n",
    "\n",
    "def quadratic_a(a, b, c):\n",
    "    return (-b-np.sqrt(b**2-4*a*c))/(2*a), (-b+np.sqrt(b**2-4*a*c))/(2*a)\n",
    "print(\"Result of (a) is:\", quadratic_a(0.001, 1000, 0.001)) \n",
    "\n",
    "def quadratic_b(a, b, c):\n",
    "    return (2*c)/(-b+np.sqrt(b**2-4*a*c)), (2*c)/(-b-np.sqrt(b**2-4*a*c))\n",
    "print(\"Result of (b) is:\", quadratic_b(0.001, 1000, 0.001)) \n",
    "\n",
    "def quadratic_c(a, b, c):\n",
    "    inside_root = 1-4*a*c/b**2\n",
    "    x_1 = -b/(2*a)*(1-np.sqrt(inside_root))\n",
    "    x_2 = -b/(2*a)*(1+np.sqrt(inside_root))\n",
    "    return x_1, x_2\n",
    "print(\"Result of (c) is:\", quadratic_c(0.001, 1000, 0.001)) "
   ]
  },
  {
   "cell_type": "markdown",
   "metadata": {},
   "source": [
    "6\\. Write a program that implements the function $f(x)=x(x−1)$\n",
    "\n",
    "(a) Calculate the derivative of the function at the point $x = 1$ using the derivative definition:\n",
    "\n",
    "$$\n",
    "\\frac{{\\rm d}f}{{\\rm d}x} = \\lim_{\\delta\\to0} \\frac{f(x+\\delta)-f(x)}{\\delta}\n",
    "$$\n",
    "\n",
    "with $\\delta = 10^{−2}$. Calculate the true value of the same derivative analytically and compare with the answer your program gives. The two will not agree perfectly. Why not?\n",
    "\n",
    "(b) Repeat the calculation for $\\delta = 10^{−4}, 10^{−6}, 10^{−8}, 10^{−10}, 10^{−12}$ and $10^{−14}$. How does the accuracy scales with $\\delta$?"
   ]
  },
  {
   "cell_type": "code",
   "execution_count": 7,
   "metadata": {},
   "outputs": [
    {
     "name": "stdout",
     "output_type": "stream",
     "text": [
      "The true value of the derivative of f(x) is f'(x) = x-1 + x = 2x-1. In x=1: f'(x=1) = 1\n",
      "In the (a) method, we obtain 1.010000000000001, so with an error of 0.010000000000000897\n",
      "In the (b) method, we obtain [1.010000000000001, 1.0000999999998899, 1.0000009999177333, 1.0000000039225287, 1.000000082840371, 1.0000889005833413, 0.9992007221626509], so with an error of [0.010000000000000897, 9.999999988985486e-05, 9.99917733279787e-07, 3.922528746258536e-09, 8.284037100736441e-08, 8.890058334132256e-05, -0.0007992778373491216]\n"
     ]
    }
   ],
   "source": [
    "def f(x):\n",
    "    return x*(x-1)\n",
    "\n",
    "def f_derivative(x, delta):\n",
    "    return (f(x+delta)-f(x))/delta\n",
    "# a\n",
    "delta = 10**(-2)\n",
    "x = 1\n",
    "(f(x+delta)-f(x))/delta\n",
    "true_value = 1 # True value\n",
    "print(f\"The true value of the derivative of f(x) is f'(x) = x-1 + x = 2x-1. In x=1: f'(x=1) = 1\")\n",
    "print(f\"In the (a) method, we obtain {f_derivative(1, delta)}, so with an error of {(f_derivative(1, delta)-true_value)/true_value}\")\n",
    "# The limit works as delta -> zero! We will get better and better approximation as we consider smaller delta with this method\n",
    "delta = [10**(-2), 10**(-4), 10**(-6), 10**(-8), 10**(-10), 10**(-12), 10**(-14)]\n",
    "print(f\"In the (b) method, we obtain {[f_derivative(x, i) for i in delta]}, so with an error of {[(f_derivative(x, i)-true_value)/true_value for i in delta]}\")"
   ]
  },
  {
   "cell_type": "markdown",
   "metadata": {},
   "source": [
    "7\\. Consider the integral of the semicircle of radius 1:\n",
    "$$\n",
    "I=\\int_{-1}^{1} \\sqrt{(1-x^2)} {\\rm d}x\n",
    "$$\n",
    "which it's known to be $I=\\frac{\\pi}{2}=1.57079632679...$.\n",
    "Alternatively we can use the Riemann definition of the integral:\n",
    "$$\n",
    "I=\\lim_{N\\to\\infty} \\sum_{k=1}^{N} h y_k \n",
    "$$\n",
    "\n",
    "with $h=2/N$ the width of each of the $N$ slices the domain is divided into and where\n",
    "$y_k$ is the value of the function at the $k-$th slice.\n",
    "\n",
    "(a) Write a programe to compute the integral with $N=100$. How does the result compares to the true value?\n",
    "\n",
    "(b) How much can $N$ be increased if the computation needs to be run in less than a second? What is the gain in running it for 1 minute? \n"
   ]
  },
  {
   "cell_type": "code",
   "execution_count": 8,
   "metadata": {},
   "outputs": [
    {
     "name": "stdout",
     "output_type": "stream",
     "text": [
      "The expected result is 1.5707963267948966, and we get: 1.569134255549248, with an error of 0.0010581074180634786\n",
      "The expected result is 1.5707963267948966, and we get: 1.5707963187658271, with an error of 5.111464339692527e-09\n",
      "The execution time for 350000 calls is: 1.3660452365875244s\n",
      "The expected result is 1.5707963267948966, and we get: 1.5707963276082288, with an error of -5.177834175773506e-10\n",
      "The execution time for 25000000 calls is: 70.80088090896606s\n"
     ]
    }
   ],
   "source": [
    "import numpy as np\n",
    "# (a)\n",
    "\n",
    "def y(x):\n",
    "    return np.sqrt(1-x**2)\n",
    "\n",
    "def integral(N=100):\n",
    "    h = 2./N\n",
    "    res = 0\n",
    "    axes = np.arange(-1, 1, h)\n",
    "    for i in axes:\n",
    "        res += h*y(i)\n",
    "    print(f\"The expected result is {np.pi/2}, and we get: {res}, with an error of {(np.pi/2-res)/(np.pi/2)}\")\n",
    "\n",
    "integral()\n",
    "# b\n",
    "N = 350000\n",
    "import time\n",
    "start_time = time.time()\n",
    "integral(N)\n",
    "end_time = time.time()\n",
    "print(f\"The execution time for {N} calls is: {end_time-start_time}s\")\n",
    "# If the computation needs to be run in less than a second, N can be maximum N = 380000 \n",
    "# (or something really close to this number)\n",
    "# The relative error we get is 4.5e-09, which is really close to zero!\n",
    "\n",
    "# If we now have a minute to run the computation we can take N as big as we can/want and compare the two results\n",
    "N_max = 25000000\n",
    "start_time = time.time()\n",
    "integral(N_max)\n",
    "end_time = time.time()\n",
    "print(f\"The execution time for {N_max} calls is: {end_time-start_time}s\")\n",
    "# One order of magnitude in difference"
   ]
  }
 ],
 "metadata": {
  "kernelspec": {
   "display_name": "Python 3",
   "language": "python",
   "name": "python3"
  },
  "language_info": {
   "codemirror_mode": {
    "name": "ipython",
    "version": 3
   },
   "file_extension": ".py",
   "mimetype": "text/x-python",
   "name": "python",
   "nbconvert_exporter": "python",
   "pygments_lexer": "ipython3",
   "version": "3.8.0"
  },
  "vscode": {
   "interpreter": {
    "hash": "7cc63d8bb06c1e0227ac9b01a159a9605014b04eb1faff35da1ccc42cc4f7246"
   }
  }
 },
 "nbformat": 4,
 "nbformat_minor": 2
}
